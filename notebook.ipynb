{
 "cells": [
  {
   "attachments": {},
   "cell_type": "markdown",
   "metadata": {},
   "source": [
    "# Exploratory Data Analysis - Assignment\n",
    "\n",
    "## 🔍 Overview\n",
    "This lab is designed to help you practice exploratory data analysis using Python. You will work with some housing data for the state of California. You will use various data visualization and analysis techniques to gain insights and identify patterns in the data, and clean and preprocess the data to make it more suitable for analysis. The lab is divided into the following sections:\n",
    "\n",
    "- Data Loading and Preparation\n",
    "- Data Visualization\n",
    "- Data Cleaning and Preprocessing (using visualizations)\n",
    "\n",
    "## 🎯 Objectives\n",
    "This assignment assess your ability to:\n",
    "- Load and pre-process data using `pandas`\n",
    "- Clean data and preparing it for analysis\n",
    "- Use visualization techniques to explore and understand the data\n",
    "- Use visualization techniques to identify patterns and relationships in the data\n",
    "- Use visualization to derive insights from the data\n",
    "- Apply basic statistical analysis to derive insights from the data\n",
    "- Communicate your findings through clear and effective data visualizations and summaries"
   ]
  },
  {
   "attachments": {},
   "cell_type": "markdown",
   "metadata": {},
   "source": [
    "#### Package Imports\n",
    "We will keep coming back to this cell to add \"import\" statements, and configure libraries as we need"
   ]
  },
  {
   "cell_type": "code",
   "execution_count": null,
   "metadata": {},
   "outputs": [],
   "source": [
    "# Common imports\n",
    "import numpy as np\n",
    "import pandas as pd\n",
    "from scipy.stats import trim_mean\n",
    "\n",
    "# To plot figures\n",
    "%matplotlib inline\n",
    "import matplotlib as mpl\n",
    "import matplotlib.pyplot as plt\n",
    "import seaborn as sns\n",
    "from pandas.plotting import scatter_matrix\n",
    "\n",
    "\n",
    "# Configure pandas to display 500 rows; otherwise it will truncate the output\n",
    "pd.set_option('display.max_rows', 500)\n",
    "mpl.rc('axes', labelsize=14)\n",
    "mpl.rc('xtick', labelsize=12)\n",
    "mpl.rc('ytick', labelsize=12)\n",
    "plt.style.use(\"bmh\")"
   ]
  },
  {
   "attachments": {},
   "cell_type": "markdown",
   "metadata": {},
   "source": [
    "## Housing Data in California"
   ]
  },
  {
   "attachments": {},
   "cell_type": "markdown",
   "metadata": {},
   "source": [
    "### Task 1:  Load the dataset\n",
    "The dataset is available in the `data/housing.csv` file. Check the file to determine the delimiter and/or the appropriate pandas method to use to load the data.\n",
    "\n",
    "Make sure you name the variable `housing` and that you use the appropriate pandas method to load the data."
   ]
  },
  {
   "cell_type": "code",
   "execution_count": null,
   "metadata": {},
   "outputs": [],
   "source": [
    "# 💻 Import the dataset in the project (data/housing.csv) into a dataframe called (housing)\n",
    "housing = pd.read_csv('data/housing.csv')\n"
   ]
  },
  {
   "attachments": {},
   "cell_type": "markdown",
   "metadata": {},
   "source": [
    "### Task 2: Confirm the data was loaded correctly"
   ]
  },
  {
   "attachments": {},
   "cell_type": "markdown",
   "metadata": {},
   "source": [
    "#### 2.1: Get the first 6 records of the dataset"
   ]
  },
  {
   "cell_type": "code",
   "execution_count": null,
   "metadata": {},
   "outputs": [],
   "source": [
    "# 💻 Get the first 6 records of the dataframe\n",
    "housing.head(6)\n"
   ]
  },
  {
   "attachments": {},
   "cell_type": "markdown",
   "metadata": {},
   "source": [
    "#### 2.2: Get the last 7 records of the dataset"
   ]
  },
  {
   "cell_type": "code",
   "execution_count": null,
   "metadata": {},
   "outputs": [],
   "source": [
    "# 💻 Get the last 7 records of the dataframe\n",
    "housing.tail(7)\n"
   ]
  },
  {
   "cell_type": "code",
   "execution_count": null,
   "metadata": {},
   "outputs": [],
   "source": [
    "# CELL INDEX: 13\n",
    "# 💻 Get a random 10 records of the dataframe\n",
    "housing.sample(10)"
   ]
  },
  {
   "attachments": {},
   "cell_type": "markdown",
   "metadata": {},
   "source": [
    "#### 2.3: Get a random sample of 10 records"
   ]
  },
  {
   "cell_type": "code",
   "execution_count": null,
   "metadata": {},
   "outputs": [],
   "source": [
    "housing.sample(10)\n"
   ]
  },
  {
   "attachments": {},
   "cell_type": "markdown",
   "metadata": {},
   "source": [
    "#### 2.4: Get information about the dataset, including the number of rows, number of columns, column names, and data types of each column"
   ]
  },
  {
   "cell_type": "code",
   "execution_count": null,
   "metadata": {},
   "outputs": [],
   "source": [
    "# 💻 Show information about the different data columns (columns, data types, ...etc.)\n",
    "housing.info()\n"
   ]
  },
  {
   "attachments": {},
   "cell_type": "markdown",
   "metadata": {},
   "source": [
    "> 🚩 This is a good point to commit your code to your repository."
   ]
  },
  {
   "attachments": {},
   "cell_type": "markdown",
   "metadata": {},
   "source": [
    "### Task 3: Understand the data types\n",
    "For each of the 10 columns, Identify the data type: (Numerical-Continuous, Numerical-Discrete, Categorical-Ordinal, Categorical-nominal )\n",
    "\n",
    "<details>\n",
    "<summary>Click here for the data type diagram</summary>\n",
    "\n",
    "  ![Data types](https://miro.medium.com/max/1400/1*kySPZcf83qLOuaqB1vJxlg.jpeg)\n",
    "</details>"
   ]
  },
  {
   "cell_type": "markdown",
   "metadata": {
    "vscode": {
     "languageId": "raw"
    }
   },
   "source": [
    "Longitude:          Numerical-Continuous\n",
    "\n",
    "Latitude:           Numerical-Continuous\n",
    "\n",
    "Housing Median Age: Numerical-Continuous\n",
    "\n",
    "Total Rooms:        Numerical-Discrete\n",
    "\n",
    "Total Bedrooms:     Numerical-Discrete\n",
    "\n",
    "Population:         Numerical-Discrete\n",
    "\n",
    "Households:         Numerical-Discrete\n",
    "\n",
    "Median Income:      Numerical-Continuous\n",
    "\n",
    "Median House Value: Numerical-Continuous\n",
    "\n",
    "Ocean Proximity:    Categorical-Nominal"
   ]
  },
  {
   "attachments": {},
   "cell_type": "markdown",
   "metadata": {},
   "source": [
    "> 🚩 This is a good point to commit your code to your repository."
   ]
  },
  {
   "attachments": {},
   "cell_type": "markdown",
   "metadata": {},
   "source": [
    "### Task 4: Understand the data\n",
    "#### 4.1: Get the summary statistics for the numerical columns"
   ]
  },
  {
   "cell_type": "code",
   "execution_count": null,
   "metadata": {},
   "outputs": [],
   "source": [
    "# 💻 Show the descriptive statistics information about the columns in the data frame\n",
    "housing.describe()\n"
   ]
  },
  {
   "attachments": {},
   "cell_type": "markdown",
   "metadata": {},
   "source": [
    "#### 4.2: For the categorical columns, get the frequency counts for each category\n",
    "\n",
    "<details>\n",
    "  <summary>🦉 Hints</summary>\n",
    "\n",
    "  - Use the `value_counts()` method on the categorical columns\n",
    "</details>"
   ]
  },
  {
   "cell_type": "code",
   "execution_count": null,
   "metadata": {},
   "outputs": [],
   "source": [
    "# 💻 Show the frequency of the values in the ocean_proximity column\n",
    "housing['ocean_proximity'].value_counts()\n"
   ]
  },
  {
   "attachments": {},
   "cell_type": "markdown",
   "metadata": {},
   "source": [
    "> 🚩 This is a good point to commit your code to your repository."
   ]
  },
  {
   "attachments": {},
   "cell_type": "markdown",
   "metadata": {},
   "source": [
    "### Task 5: Visualize the data"
   ]
  },
  {
   "attachments": {},
   "cell_type": "markdown",
   "metadata": {},
   "source": [
    "#### 5.1: Visualize the distribution of the numerical columns\n",
    "In a single figure, plot the histograms for all the numerical columns. Use a bin size of 50 for the histograms"
   ]
  },
  {
   "cell_type": "code",
   "execution_count": null,
   "metadata": {},
   "outputs": [],
   "source": [
    "housing.hist(bins=50, figsize=(20, 15))\n",
    "plt.show()"
   ]
  },
  {
   "attachments": {},
   "cell_type": "markdown",
   "metadata": {},
   "source": [
    "#### 5.2: Visualize the distribution of only one column\n",
    "Plot the histogram for the `median_income` column. Use a bin size of 50 for the histogram"
   ]
  },
  {
   "cell_type": "code",
   "execution_count": null,
   "metadata": {},
   "outputs": [],
   "source": [
    "housing['median_income'].hist(bins=50, figsize=(10, 6))\n",
    "plt.xlabel('Median Income')\n",
    "plt.ylabel('Frequency')\n",
    "plt.title('Histogram of Median Income')\n",
    "plt.show()\n"
   ]
  },
  {
   "attachments": {},
   "cell_type": "markdown",
   "metadata": {},
   "source": [
    "> 🚩 This is a good point to commit your code to your repository."
   ]
  },
  {
   "attachments": {},
   "cell_type": "markdown",
   "metadata": {},
   "source": [
    "#### 5.3: Visualize the location of the houses using a scatter plot\n",
    "In a single figure, plot a scatter plot of the `longitude` and `latitude` columns. \n",
    "\n",
    "\n",
    "Try this twice, once setting the `alpha` parameter to set the transparency of the points to 0.1, and once without setting the `alpha` parameter."
   ]
  },
  {
   "cell_type": "code",
   "execution_count": null,
   "metadata": {},
   "outputs": [],
   "source": [
    "# 💻 scatter plot without alpha\n",
    "housing.plot(kind='scatter', x='longitude', y='latitude')\n",
    "plt.xlabel('Longitude')\n",
    "plt.ylabel('Latitude')\n",
    "plt.title('Scatter plot of house locations')\n",
    "plt.show()\n"
   ]
  },
  {
   "cell_type": "code",
   "execution_count": null,
   "metadata": {},
   "outputs": [],
   "source": [
    "# 💻 scatter plot with alpha\n",
    "housing.plot(kind='scatter', x='longitude', y='latitude', alpha=0.1)\n",
    "plt.xlabel('Longitude')\n",
    "plt.ylabel('Latitude')\n",
    "plt.title('Scatter plot of house locations with alpha')\n",
    "plt.show()\n"
   ]
  },
  {
   "attachments": {},
   "cell_type": "markdown",
   "metadata": {},
   "source": [
    "> 🚩 This is a good point to commit your code to your repository."
   ]
  },
  {
   "attachments": {},
   "cell_type": "markdown",
   "metadata": {},
   "source": [
    "💯✨ For 3 Extra Credit points; Use the Plotly express to plot the scatter plot on a map of california\n",
    "\n",
    "(📜 Check out the examples on their docs)[https://plotly.com/python/scatter-plots-on-maps/]"
   ]
  },
  {
   "cell_type": "code",
   "execution_count": null,
   "metadata": {},
   "outputs": [],
   "source": [
    "%pip install plotly\n",
    "\n",
    "import plotly.express as px\n",
    "\n",
    "# Create a scatter mapbox plot\n",
    "fig = px.scatter_mapbox(housing, lat=\"latitude\", lon=\"longitude\", \n",
    "                        color=\"median_house_value\", size=\"population\",\n",
    "                        color_continuous_scale=px.colors.cyclical.IceFire, size_max=15, zoom=5,\n",
    "                        mapbox_style=\"carto-positron\",\n",
    "                        title=\"Housing Data in California\")\n",
    "\n",
    "# Show the plot\n",
    "fig.show()"
   ]
  },
  {
   "attachments": {},
   "cell_type": "markdown",
   "metadata": {},
   "source": [
    "> 🚩 This is a good point to commit your code to your repository."
   ]
  },
  {
   "attachments": {},
   "cell_type": "markdown",
   "metadata": {},
   "source": [
    "### Task 6: Explore the data and find correlations"
   ]
  },
  {
   "attachments": {},
   "cell_type": "markdown",
   "metadata": {},
   "source": [
    "#### 6.1: Generate a correlation matrix for the numerical columns"
   ]
  },
  {
   "cell_type": "code",
   "execution_count": null,
   "metadata": {},
   "outputs": [],
   "source": [
    "# 💻 Get the correlation matrix of the housing data excluding the 'ocean_proximity' column\n",
    "correlation_matrix = housing.drop('ocean_proximity', axis=1).corr()\n",
    "correlation_matrix\n"
   ]
  },
  {
   "attachments": {},
   "cell_type": "markdown",
   "metadata": {},
   "source": [
    "#### 6.2: Get the Correlation data fro the `median_house_age` column\n",
    "sort the results in descending order"
   ]
  },
  {
   "cell_type": "code",
   "execution_count": null,
   "metadata": {},
   "outputs": [],
   "source": [
    "# 💻 Get the correlation data for just the median_house_age\n",
    "correlation_matrix[\"housing_median_age\"].sort_values(ascending=False)\n"
   ]
  },
  {
   "attachments": {},
   "cell_type": "markdown",
   "metadata": {},
   "source": [
    "#### 6.2: Visualize the correlation matrix using a heatmap\n",
    "- use the coolwarm color map\n",
    "- show the numbers on the heatmap\n"
   ]
  },
  {
   "cell_type": "code",
   "execution_count": null,
   "metadata": {},
   "outputs": [],
   "source": [
    "plt.figure(figsize=(12, 8))\n",
    "sns.heatmap(correlation_matrix, annot=True, cmap='coolwarm', linewidths=0.5)\n",
    "plt.title('Correlation Matrix Heatmap')\n",
    "plt.show()\n"
   ]
  },
  {
   "attachments": {},
   "cell_type": "markdown",
   "metadata": {},
   "source": [
    "#### 6.3: Visualize the correlations between some of the features using a scatter matrix\n",
    "- Plot a scatter matrix for the `total_rooms`, `median_house_age`, `median_income`, and `median_house_value` columns"
   ]
  },
  {
   "cell_type": "code",
   "execution_count": null,
   "metadata": {},
   "outputs": [],
   "source": [
    "scatter_matrix(housing[['median_house_value', 'median_income', 'total_rooms', 'housing_median_age']], figsize=(12, 8), alpha=0.1)\n",
    "plt.show()\n"
   ]
  },
  {
   "attachments": {},
   "cell_type": "markdown",
   "metadata": {},
   "source": [
    "#### 6.4: Visualize the correlations between 2 features using a scatter plot\n",
    "- use an `alpha` value of 0.1"
   ]
  },
  {
   "cell_type": "code",
   "execution_count": null,
   "metadata": {},
   "outputs": [],
   "source": [
    "housing.plot(kind='scatter', x='median_income', y='median_house_value', alpha=0.1)\n",
    "plt.xlabel('Median Income')\n",
    "plt.ylabel('Median House Value')\n",
    "plt.title('Scatter plot of Median Income vs Median House Value')\n",
    "plt.show()\n"
   ]
  },
  {
   "attachments": {},
   "cell_type": "markdown",
   "metadata": {},
   "source": [
    "#### 6.5: ❓ What do you notice about the chart? what could that mean?\n",
    "What could the lines of values at the top of the chart mean here?"
   ]
  },
  {
   "cell_type": "markdown",
   "metadata": {
    "vscode": {
     "languageId": "raw"
    }
   },
   "source": [
    "💻:The lines of values at the top of the chart could indicate that there is a cap on the median_house_value feature. This suggests that the values might have been clipped at a certain threshold, which could affect the analysis and interpretation of the data."
   ]
  },
  {
   "attachments": {},
   "cell_type": "markdown",
   "metadata": {},
   "source": [
    "> 🚩 This is a good point to commit your code to your repository."
   ]
  },
  {
   "attachments": {},
   "cell_type": "markdown",
   "metadata": {},
   "source": [
    "### Task 7: Data Cleaning - Duplicate Data"
   ]
  },
  {
   "attachments": {},
   "cell_type": "markdown",
   "metadata": {},
   "source": [
    "#### 7.1: Find duplicate data"
   ]
  },
  {
   "cell_type": "code",
   "execution_count": null,
   "metadata": {},
   "outputs": [],
   "source": [
    "# 💻 Identify the duplicate data in the dataset\n",
    "duplicates = housing[housing.duplicated()]\n",
    "duplicates\n"
   ]
  },
  {
   "attachments": {},
   "cell_type": "markdown",
   "metadata": {},
   "source": [
    "### Task 8: Data Cleaning - Missing Data"
   ]
  },
  {
   "attachments": {},
   "cell_type": "markdown",
   "metadata": {},
   "source": [
    "#### 8.1: Find missing data"
   ]
  },
  {
   "cell_type": "code",
   "execution_count": null,
   "metadata": {},
   "outputs": [],
   "source": [
    "# 💻 Identify the missing data in the dataset\n",
    "missing_data = housing.isnull().sum()\n",
    "missing_data\n"
   ]
  },
  {
   "attachments": {},
   "cell_type": "markdown",
   "metadata": {},
   "source": [
    "#### 8.2: show a sample of 5 records of the rows with missing data\n",
    "Notice there are 2 keywords here: `sample` and (rows with missing data)\n",
    "\n",
    "<details>\n",
    "  <summary>🦉 Hints:</summary>\n",
    "\n",
    "  * You'll do pandas filtering here\n",
    "  * You'll need to use the `isna()` or `isnull()` method on the 1 feature with missing data. to find the rows with missing data\n",
    "  * you'll need to use the `sample()` method to get a sample of 5 records of the results\n",
    "</details>"
   ]
  },
  {
   "cell_type": "code",
   "execution_count": null,
   "metadata": {},
   "outputs": [],
   "source": [
    "# 💻 use Pandas Filtering to show all the records with missing `total_bedrooms` field\n",
    "missing_total_bedrooms = housing[housing['total_bedrooms'].isnull()]\n",
    "missing_total_bedrooms.sample(5)\n"
   ]
  },
  {
   "attachments": {},
   "cell_type": "markdown",
   "metadata": {},
   "source": [
    "#### 8.3: Calculate the central tendency values of the missing data feature\n",
    "* Calculate the mean, median, trimmed mean"
   ]
  },
  {
   "cell_type": "code",
   "execution_count": null,
   "metadata": {},
   "outputs": [],
   "source": [
    "# 💻 get the mean, median and trimmed mean of the total_bedrooms column\n",
    "total_bedrooms_median = 0\n",
    "total_berooms_mean = 0\n",
    "total_bedrooms_trimmed_mean = 0\n",
    "\n",
    "print(f\"Median: {total_bedrooms_median}\")\n",
    "print(f\"Mean: {total_berooms_mean}\")\n",
    "print(f\"Trimmed Mean: {total_bedrooms_trimmed_mean}\")"
   ]
  },
  {
   "attachments": {},
   "cell_type": "markdown",
   "metadata": {},
   "source": [
    "#### 8.4: Visualize the distribution of the missing data feature\n",
    "* Plot a histogram of the missing data feature (total_bedrooms)"
   ]
  },
  {
   "cell_type": "code",
   "execution_count": null,
   "metadata": {},
   "outputs": [],
   "source": [
    "# 💻 Plot the histogram of the total_bedrooms column\n",
    "housing['total_bedrooms'].hist(bins=50, figsize=(10, 6))\n",
    "plt.xlabel('Total Bedrooms')\n",
    "plt.ylabel('Frequency')\n",
    "plt.title('Histogram of Total Bedrooms')\n",
    "plt.show()\n"
   ]
  },
  {
   "attachments": {},
   "cell_type": "markdown",
   "metadata": {},
   "source": [
    "#### 8.5: Choose one of the central tendency values and use it to fill in the missing data\n",
    "* Justify your choice\n",
    "* Don't use the `inplace` parameter, instead, create a new dataframe with the updated values. (this is a bit challenging)\n",
    "* show the first 5 records of the new dataframe to confirm we got the full dataframe\n",
    "\n",
    "[📜 You should find a good example here](https://www.sharpsightlabs.com/blog/pandas-fillna/#example-2)"
   ]
  },
  {
   "cell_type": "code",
   "execution_count": null,
   "metadata": {},
   "outputs": [],
   "source": [
    "# Calculate the median of the total_bedrooms column\n",
    "total_bedrooms_median = housing['total_bedrooms'].median()\n",
    "\n",
    "# Fill the missing values in the total_bedrooms column with the median value\n",
    "housing_filled = housing.copy()\n",
    "housing_filled['total_bedrooms'] = housing_filled['total_bedrooms'].fillna(total_bedrooms_median)\n",
    "\n",
    "# Show the first 5 records of the new dataframe\n",
    "housing_filled.head()\n"
   ]
  },
  {
   "attachments": {},
   "cell_type": "markdown",
   "metadata": {},
   "source": [
    "❓ Why did you choose this value?"
   ]
  },
  {
   "cell_type": "markdown",
   "metadata": {
    "vscode": {
     "languageId": "raw"
    }
   },
   "source": [
    "💻I chose the median value to fill in the missing data because it is less affected by outliers compared to the mean. This makes it a more robust measure of central tendency for skewed distributions."
   ]
  },
  {
   "attachments": {},
   "cell_type": "markdown",
   "metadata": {},
   "source": [
    "#### 8.6: Confirm that there are no more missing values in the new dataframe\n",
    "* make sure the dataframe contains all features, not just the `total_bedrooms` feature"
   ]
  },
  {
   "cell_type": "code",
   "execution_count": null,
   "metadata": {},
   "outputs": [],
   "source": [
    "# 💻 Confirm the new dataframe has no missing values\n",
    "housing_filled.isnull().sum()\n"
   ]
  },
  {
   "attachments": {},
   "cell_type": "markdown",
   "metadata": {},
   "source": [
    "#### 8.7: Dropping the missing data\n",
    "assume we didn't want to impute the missing data, and instead, we wanted to drop the rows with missing data.\n",
    "* don't use the `inplace` parameter, instead, create a new dataframe with the updated values."
   ]
  },
  {
   "cell_type": "code",
   "execution_count": null,
   "metadata": {},
   "outputs": [],
   "source": [
    "# 💻 drop the missing rows of the total_bedrooms and save it to a new dataframe\n",
    "housing_dropped = housing.dropna(subset=['total_bedrooms'])\n",
    "\n",
    "# Show the first 5 records of the new dataframe\n",
    "housing_dropped.head()\n"
   ]
  },
  {
   "attachments": {},
   "cell_type": "markdown",
   "metadata": {},
   "source": [
    "#### 8.8: Confirm that there are no more missing values in the new dataframe\n",
    "* make sure the dataframe contains all features, not just the `total_bedrooms` feature"
   ]
  },
  {
   "cell_type": "code",
   "execution_count": null,
   "metadata": {},
   "outputs": [],
   "source": [
    "# 💻 Confirm the new dataframe has no missing values\n",
    "housing_dropped.isnull().sum()\n"
   ]
  },
  {
   "attachments": {},
   "cell_type": "markdown",
   "metadata": {},
   "source": [
    "> 🚩 This is a good point to commit your code to your repository."
   ]
  },
  {
   "attachments": {},
   "cell_type": "markdown",
   "metadata": {},
   "source": [
    "## Wrap up\n",
    "Remember to update the self reflection and self evaluations on the `README` file."
   ]
  },
  {
   "attachments": {},
   "cell_type": "markdown",
   "metadata": {},
   "source": [
    "Make sure you run the following cell; this converts this Jupyter notebook to a Python script. and will make the process of reviewing your code on GitHub easier"
   ]
  },
  {
   "cell_type": "code",
   "execution_count": 30,
   "metadata": {},
   "outputs": [
    {
     "name": "stderr",
     "output_type": "stream",
     "text": [
      "[NbConvertApp] Converting notebook notebook.ipynb to python\n",
      "[NbConvertApp] Writing 13312 bytes to notebook.py\n"
     ]
    }
   ],
   "source": [
    "# 🦉: The following command converts this Jupyter notebook to a Python script.\n",
    "!jupyter nbconvert --to python notebook.ipynb"
   ]
  },
  {
   "attachments": {},
   "cell_type": "markdown",
   "metadata": {},
   "source": [
    "> 🚩 **Make sure** you save the notebook and make one final commit here"
   ]
  }
 ],
 "metadata": {
  "kernelspec": {
   "display_name": "Python 3",
   "language": "python",
   "name": "python3"
  },
  "language_info": {
   "codemirror_mode": {
    "name": "ipython",
    "version": 3
   },
   "file_extension": ".py",
   "mimetype": "text/x-python",
   "name": "python",
   "nbconvert_exporter": "python",
   "pygments_lexer": "ipython3",
   "version": "3.11.1"
  },
  "nav_menu": {
   "height": "279px",
   "width": "309px"
  },
  "toc": {
   "nav_menu": {},
   "number_sections": true,
   "sideBar": true,
   "skip_h1_title": false,
   "toc_cell": false,
   "toc_position": {},
   "toc_section_display": "block",
   "toc_window_display": false
  }
 },
 "nbformat": 4,
 "nbformat_minor": 4
}
